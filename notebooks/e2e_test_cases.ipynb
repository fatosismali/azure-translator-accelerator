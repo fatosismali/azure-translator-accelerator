{
  "cells": [
    {
      "cell_type": "markdown",
      "metadata": {},
      "source": [
        "# Azure Translator Solution Accelerator - End-to-End Test Cases\n",
        "\n",
        "This notebook demonstrates and tests the Azure Translator API integration.\n",
        "\n",
        "## Prerequisites\n",
        "- Backend API running (local or deployed)\n",
        "- Python packages: `requests`, `pandas`, `matplotlib`\n"
      ]
    }
  ],
  "metadata": {
    "language_info": {
      "name": "python"
    }
  },
  "nbformat": 4,
  "nbformat_minor": 2
}
